{
 "cells": [
  {
   "cell_type": "markdown",
   "metadata": {},
   "source": [
    "# Refactor the Taxi Fare Prediction Problem with a Pipeline"
   ]
  },
  {
   "cell_type": "markdown",
   "metadata": {},
   "source": [
    "We will refactor the model you built for the Taxi Fare Prediction Problem using:\n",
    "- Custom encoders for the distance and time features\n",
    "- OneHot Encoder in order to encode the hour and day of week features\n",
    "- SimpleImputer to fill missing values\n",
    "- A simple linear regression\n",
    "- A pipeline to put all together\n",
    "\n",
    "Then: \n",
    "- train this pipeline\n",
    "- apply the pipeline on test data\n",
    "- generate predictions and submit these new predictions to Kaggle"
   ]
  },
  {
   "cell_type": "markdown",
   "metadata": {},
   "source": [
    "## First pipeline"
   ]
  },
  {
   "cell_type": "code",
   "execution_count": 5,
   "metadata": {},
   "outputs": [
    {
     "data": {
      "text/html": [
       "<div>\n",
       "<style scoped>\n",
       "    .dataframe tbody tr th:only-of-type {\n",
       "        vertical-align: middle;\n",
       "    }\n",
       "\n",
       "    .dataframe tbody tr th {\n",
       "        vertical-align: top;\n",
       "    }\n",
       "\n",
       "    .dataframe thead th {\n",
       "        text-align: right;\n",
       "    }\n",
       "</style>\n",
       "<table border=\"1\" class=\"dataframe\">\n",
       "  <thead>\n",
       "    <tr style=\"text-align: right;\">\n",
       "      <th></th>\n",
       "      <th>key</th>\n",
       "      <th>fare_amount</th>\n",
       "      <th>pickup_datetime</th>\n",
       "      <th>pickup_longitude</th>\n",
       "      <th>pickup_latitude</th>\n",
       "      <th>dropoff_longitude</th>\n",
       "      <th>dropoff_latitude</th>\n",
       "      <th>passenger_count</th>\n",
       "    </tr>\n",
       "  </thead>\n",
       "  <tbody>\n",
       "    <tr>\n",
       "      <th>0</th>\n",
       "      <td>2009-06-15 17:26:21.0000001</td>\n",
       "      <td>4.5</td>\n",
       "      <td>2009-06-15 17:26:21 UTC</td>\n",
       "      <td>-73.844311</td>\n",
       "      <td>40.721319</td>\n",
       "      <td>-73.841610</td>\n",
       "      <td>40.712278</td>\n",
       "      <td>1</td>\n",
       "    </tr>\n",
       "    <tr>\n",
       "      <th>1</th>\n",
       "      <td>2010-01-05 16:52:16.0000002</td>\n",
       "      <td>16.9</td>\n",
       "      <td>2010-01-05 16:52:16 UTC</td>\n",
       "      <td>-74.016048</td>\n",
       "      <td>40.711303</td>\n",
       "      <td>-73.979268</td>\n",
       "      <td>40.782004</td>\n",
       "      <td>1</td>\n",
       "    </tr>\n",
       "    <tr>\n",
       "      <th>2</th>\n",
       "      <td>2011-08-18 00:35:00.00000049</td>\n",
       "      <td>5.7</td>\n",
       "      <td>2011-08-18 00:35:00 UTC</td>\n",
       "      <td>-73.982738</td>\n",
       "      <td>40.761270</td>\n",
       "      <td>-73.991242</td>\n",
       "      <td>40.750562</td>\n",
       "      <td>2</td>\n",
       "    </tr>\n",
       "    <tr>\n",
       "      <th>3</th>\n",
       "      <td>2012-04-21 04:30:42.0000001</td>\n",
       "      <td>7.7</td>\n",
       "      <td>2012-04-21 04:30:42 UTC</td>\n",
       "      <td>-73.987130</td>\n",
       "      <td>40.733143</td>\n",
       "      <td>-73.991567</td>\n",
       "      <td>40.758092</td>\n",
       "      <td>1</td>\n",
       "    </tr>\n",
       "    <tr>\n",
       "      <th>4</th>\n",
       "      <td>2010-03-09 07:51:00.000000135</td>\n",
       "      <td>5.3</td>\n",
       "      <td>2010-03-09 07:51:00 UTC</td>\n",
       "      <td>-73.968095</td>\n",
       "      <td>40.768008</td>\n",
       "      <td>-73.956655</td>\n",
       "      <td>40.783762</td>\n",
       "      <td>1</td>\n",
       "    </tr>\n",
       "  </tbody>\n",
       "</table>\n",
       "</div>"
      ],
      "text/plain": [
       "                             key  fare_amount          pickup_datetime  \\\n",
       "0    2009-06-15 17:26:21.0000001          4.5  2009-06-15 17:26:21 UTC   \n",
       "1    2010-01-05 16:52:16.0000002         16.9  2010-01-05 16:52:16 UTC   \n",
       "2   2011-08-18 00:35:00.00000049          5.7  2011-08-18 00:35:00 UTC   \n",
       "3    2012-04-21 04:30:42.0000001          7.7  2012-04-21 04:30:42 UTC   \n",
       "4  2010-03-09 07:51:00.000000135          5.3  2010-03-09 07:51:00 UTC   \n",
       "\n",
       "   pickup_longitude  pickup_latitude  dropoff_longitude  dropoff_latitude  \\\n",
       "0        -73.844311        40.721319         -73.841610         40.712278   \n",
       "1        -74.016048        40.711303         -73.979268         40.782004   \n",
       "2        -73.982738        40.761270         -73.991242         40.750562   \n",
       "3        -73.987130        40.733143         -73.991567         40.758092   \n",
       "4        -73.968095        40.768008         -73.956655         40.783762   \n",
       "\n",
       "   passenger_count  \n",
       "0                1  \n",
       "1                1  \n",
       "2                2  \n",
       "3                1  \n",
       "4                1  "
      ]
     },
     "execution_count": 5,
     "metadata": {},
     "output_type": "execute_result"
    }
   ],
   "source": [
    "# import the train dataset ( 1000 first rows)\n",
    "import pandas as pd\n",
    "df=pd.read_csv('../data/train.csv',encoding=\"UTF8\", sep=',', nrows=1000)\n",
    "df.head(5)"
   ]
  },
  {
   "cell_type": "code",
   "execution_count": 6,
   "metadata": {},
   "outputs": [],
   "source": [
    "# prepare X and y\n",
    "X = df.drop(columns=['fare_amount'])\n",
    "y=df.fare_amount"
   ]
  },
  {
   "cell_type": "code",
   "execution_count": 8,
   "metadata": {},
   "outputs": [],
   "source": [
    "# Hold out ( train and test dplit )\n",
    "from sklearn.model_selection import train_test_split\n",
    "X_train, y_train, X_test, y_test = train_test_split(X,y, test_size=0.2)"
   ]
  },
  {
   "cell_type": "code",
   "execution_count": 9,
   "metadata": {},
   "outputs": [
    {
     "data": {
      "text/html": [
       "<div>\n",
       "<style scoped>\n",
       "    .dataframe tbody tr th:only-of-type {\n",
       "        vertical-align: middle;\n",
       "    }\n",
       "\n",
       "    .dataframe tbody tr th {\n",
       "        vertical-align: top;\n",
       "    }\n",
       "\n",
       "    .dataframe thead th {\n",
       "        text-align: right;\n",
       "    }\n",
       "</style>\n",
       "<table border=\"1\" class=\"dataframe\">\n",
       "  <thead>\n",
       "    <tr style=\"text-align: right;\">\n",
       "      <th></th>\n",
       "      <th>key</th>\n",
       "      <th>pickup_datetime</th>\n",
       "      <th>pickup_longitude</th>\n",
       "      <th>pickup_latitude</th>\n",
       "      <th>dropoff_longitude</th>\n",
       "      <th>dropoff_latitude</th>\n",
       "      <th>passenger_count</th>\n",
       "    </tr>\n",
       "  </thead>\n",
       "  <tbody>\n",
       "    <tr>\n",
       "      <th>216</th>\n",
       "      <td>2009-04-08 19:11:10.0000004</td>\n",
       "      <td>2009-04-08 19:11:10 UTC</td>\n",
       "      <td>-73.998287</td>\n",
       "      <td>40.727490</td>\n",
       "      <td>-73.989854</td>\n",
       "      <td>40.735239</td>\n",
       "      <td>2</td>\n",
       "    </tr>\n",
       "    <tr>\n",
       "      <th>82</th>\n",
       "      <td>2013-06-14 08:27:43.0000001</td>\n",
       "      <td>2013-06-14 08:27:43 UTC</td>\n",
       "      <td>-73.953710</td>\n",
       "      <td>40.790813</td>\n",
       "      <td>-73.957015</td>\n",
       "      <td>40.777676</td>\n",
       "      <td>1</td>\n",
       "    </tr>\n",
       "    <tr>\n",
       "      <th>446</th>\n",
       "      <td>2010-02-26 23:56:00.000000182</td>\n",
       "      <td>2010-02-26 23:56:00 UTC</td>\n",
       "      <td>-73.997710</td>\n",
       "      <td>40.756485</td>\n",
       "      <td>-73.987518</td>\n",
       "      <td>40.721337</td>\n",
       "      <td>1</td>\n",
       "    </tr>\n",
       "    <tr>\n",
       "      <th>253</th>\n",
       "      <td>2015-02-14 19:00:23.0000006</td>\n",
       "      <td>2015-02-14 19:00:23 UTC</td>\n",
       "      <td>-73.961975</td>\n",
       "      <td>40.776112</td>\n",
       "      <td>-73.954849</td>\n",
       "      <td>40.774075</td>\n",
       "      <td>1</td>\n",
       "    </tr>\n",
       "    <tr>\n",
       "      <th>905</th>\n",
       "      <td>2009-01-19 10:38:00.00000050</td>\n",
       "      <td>2009-01-19 10:38:00 UTC</td>\n",
       "      <td>-73.987080</td>\n",
       "      <td>40.741545</td>\n",
       "      <td>-73.990558</td>\n",
       "      <td>40.736778</td>\n",
       "      <td>1</td>\n",
       "    </tr>\n",
       "  </tbody>\n",
       "</table>\n",
       "</div>"
      ],
      "text/plain": [
       "                               key          pickup_datetime  pickup_longitude  \\\n",
       "216    2009-04-08 19:11:10.0000004  2009-04-08 19:11:10 UTC        -73.998287   \n",
       "82     2013-06-14 08:27:43.0000001  2013-06-14 08:27:43 UTC        -73.953710   \n",
       "446  2010-02-26 23:56:00.000000182  2010-02-26 23:56:00 UTC        -73.997710   \n",
       "253    2015-02-14 19:00:23.0000006  2015-02-14 19:00:23 UTC        -73.961975   \n",
       "905   2009-01-19 10:38:00.00000050  2009-01-19 10:38:00 UTC        -73.987080   \n",
       "\n",
       "     pickup_latitude  dropoff_longitude  dropoff_latitude  passenger_count  \n",
       "216        40.727490         -73.989854         40.735239                2  \n",
       "82         40.790813         -73.957015         40.777676                1  \n",
       "446        40.756485         -73.987518         40.721337                1  \n",
       "253        40.776112         -73.954849         40.774075                1  \n",
       "905        40.741545         -73.990558         40.736778                1  "
      ]
     },
     "execution_count": 9,
     "metadata": {},
     "output_type": "execute_result"
    }
   ],
   "source": [
    "X_train.head()"
   ]
  },
  {
   "cell_type": "markdown",
   "metadata": {},
   "source": [
    "### Custom transformers"
   ]
  },
  {
   "cell_type": "markdown",
   "metadata": {},
   "source": [
    "With the Taxi Fare Prediction Challenge data, using `BaseEstimator` and `TransformerMixin`, implement:\n",
    "\n",
    "- a transformer that computes the haversine distance between the pickup and dropoff locations\n",
    "- a custom encoder that extracts the time features from `pickup_datetime`"
   ]
  },
  {
   "cell_type": "code",
   "execution_count": 10,
   "metadata": {},
   "outputs": [],
   "source": [
    "import numpy as np\n",
    "\n",
    "def haversine_vectorized(df, \n",
    "                         start_lat=\"pickup_latitude\",\n",
    "                         start_lon=\"pickup_longitude\",\n",
    "                         end_lat=\"dropoff_latitude\",\n",
    "                         end_lon=\"dropoff_longitude\"):\n",
    "    \"\"\" \n",
    "        Calculates the great circle distance between two points \n",
    "        on the earth (specified in decimal degrees).\n",
    "        Vectorized version of the haversine distance for pandas df.\n",
    "        Computes the distance in kms.\n",
    "    \"\"\"\n",
    "\n",
    "    lat_1_rad, lon_1_rad = np.radians(df[start_lat].astype(float)), np.radians(df[start_lon].astype(float))\n",
    "    lat_2_rad, lon_2_rad = np.radians(df[end_lat].astype(float)), np.radians(df[end_lon].astype(float))\n",
    "    dlon = lon_2_rad - lon_1_rad\n",
    "    dlat = lat_2_rad - lat_1_rad\n",
    "\n",
    "    a = np.sin(dlat / 2.0) ** 2 + np.cos(lat_1_rad) * np.cos(lat_2_rad) * np.sin(dlon / 2.0) ** 2\n",
    "    c = 2 * np.arcsin(np.sqrt(a))\n",
    "    return 6371 * c"
   ]
  },
  {
   "cell_type": "code",
   "execution_count": 11,
   "metadata": {},
   "outputs": [],
   "source": [
    "# create a DistanceTransformer\n",
    "from sklearn.base import BaseEstimator, TransformerMixin\n",
    "\n",
    "class DistanceTransformer(BaseEstimator, TransformerMixin):\n",
    "    \"\"\"\n",
    "        Computes the haversine distance between two GPS points.\n",
    "        Returns a copy of the DataFrame X with only one column: 'distance'.\n",
    "    \"\"\"\n",
    "\n",
    "    def __init__(self,start_lat=\"pickup_latitude\",start_lon=\"pickup_longitude\",end_lat=\"dropoff_latitude\",end_lon=\"dropoff_longitude\"):\n",
    "        self.start_lat=start_lat\n",
    "        self.start_lon=start_lon\n",
    "        self.end_lat=end_lat\n",
    "        self.end_lon=end_lon\n",
    "        # A COMPPLETER\n",
    "    \n",
    "    def fit(self, X, y=None):\n",
    "        return self\n",
    "\n",
    "\n",
    "    def transform(self, X, y=None):\n",
    "        X[\"distance\"] = haversine_vectorized(X, start_lat=\"pickup_latitude\", start_lon=\"pickup_longitude\",\n",
    "                                    end_lat=\"dropoff_latitude\", end_lon=\"dropoff_longitude\")\n",
    "        return X[['distance']]"
   ]
  },
  {
   "cell_type": "code",
   "execution_count": 12,
   "metadata": {},
   "outputs": [
    {
     "data": {
      "text/html": [
       "<div>\n",
       "<style scoped>\n",
       "    .dataframe tbody tr th:only-of-type {\n",
       "        vertical-align: middle;\n",
       "    }\n",
       "\n",
       "    .dataframe tbody tr th {\n",
       "        vertical-align: top;\n",
       "    }\n",
       "\n",
       "    .dataframe thead th {\n",
       "        text-align: right;\n",
       "    }\n",
       "</style>\n",
       "<table border=\"1\" class=\"dataframe\">\n",
       "  <thead>\n",
       "    <tr style=\"text-align: right;\">\n",
       "      <th></th>\n",
       "      <th>distance</th>\n",
       "    </tr>\n",
       "  </thead>\n",
       "  <tbody>\n",
       "    <tr>\n",
       "      <th>216</th>\n",
       "      <td>1.116850</td>\n",
       "    </tr>\n",
       "    <tr>\n",
       "      <th>82</th>\n",
       "      <td>1.487035</td>\n",
       "    </tr>\n",
       "    <tr>\n",
       "      <th>446</th>\n",
       "      <td>4.001499</td>\n",
       "    </tr>\n",
       "    <tr>\n",
       "      <th>253</th>\n",
       "      <td>0.641366</td>\n",
       "    </tr>\n",
       "    <tr>\n",
       "      <th>905</th>\n",
       "      <td>0.605668</td>\n",
       "    </tr>\n",
       "  </tbody>\n",
       "</table>\n",
       "</div>"
      ],
      "text/plain": [
       "     distance\n",
       "216  1.116850\n",
       "82   1.487035\n",
       "446  4.001499\n",
       "253  0.641366\n",
       "905  0.605668"
      ]
     },
     "execution_count": 12,
     "metadata": {},
     "output_type": "execute_result"
    }
   ],
   "source": [
    "# test the DistanceTransformer\n",
    "\n",
    "dist_trans = DistanceTransformer()\n",
    "distance = dist_trans.fit_transform(X_train, y_train)\n",
    "distance.head()"
   ]
  },
  {
   "cell_type": "code",
   "execution_count": 13,
   "metadata": {},
   "outputs": [],
   "source": [
    "# create a TimeFeaturesEncoder\n",
    "class TimeFeaturesEncoder(BaseEstimator, TransformerMixin):\n",
    "    \"\"\"\n",
    "        Extracts the day of week (dow), the hour, the month and the year from a time column.\n",
    "        Returns a copy of the DataFrame X with only four columns: 'dow', 'hour', 'month', 'year'.\n",
    "    \"\"\"\n",
    "    def __init__(self, time_column, time_zone_name='America/New_York'):\n",
    "        self.time_column = time_column\n",
    "        self.time_zone_name = time_zone_name\n",
    "\n",
    "    def extract_time_features(self, X):\n",
    "        timezone_name = self.time_zone_name\n",
    "        time_column = self.time_column\n",
    "        df = X.copy()\n",
    "        df.index = pd.to_datetime(df[time_column])\n",
    "        df.index = df.index.tz_convert(timezone_name)\n",
    "        df[\"dow\"] = df.index.weekday\n",
    "        df[\"hour\"] = df.index.hour\n",
    "        df[\"month\"] = df.index.month\n",
    "        df[\"year\"] = df.index.year        \n",
    "        return df\n",
    "        \n",
    "    def fit(self, X, y=None):\n",
    "        return self\n",
    "\n",
    "    def transform(self, X, y=None):\n",
    "\n",
    "        return self.extract_time_features(X)[['dow', 'hour', 'month', 'year']].reset_index(drop=True)"
   ]
  },
  {
   "cell_type": "code",
   "execution_count": 14,
   "metadata": {},
   "outputs": [
    {
     "data": {
      "text/html": [
       "<div>\n",
       "<style scoped>\n",
       "    .dataframe tbody tr th:only-of-type {\n",
       "        vertical-align: middle;\n",
       "    }\n",
       "\n",
       "    .dataframe tbody tr th {\n",
       "        vertical-align: top;\n",
       "    }\n",
       "\n",
       "    .dataframe thead th {\n",
       "        text-align: right;\n",
       "    }\n",
       "</style>\n",
       "<table border=\"1\" class=\"dataframe\">\n",
       "  <thead>\n",
       "    <tr style=\"text-align: right;\">\n",
       "      <th></th>\n",
       "      <th>dow</th>\n",
       "      <th>hour</th>\n",
       "      <th>month</th>\n",
       "      <th>year</th>\n",
       "    </tr>\n",
       "  </thead>\n",
       "  <tbody>\n",
       "    <tr>\n",
       "      <th>0</th>\n",
       "      <td>2</td>\n",
       "      <td>15</td>\n",
       "      <td>4</td>\n",
       "      <td>2009</td>\n",
       "    </tr>\n",
       "    <tr>\n",
       "      <th>1</th>\n",
       "      <td>4</td>\n",
       "      <td>4</td>\n",
       "      <td>6</td>\n",
       "      <td>2013</td>\n",
       "    </tr>\n",
       "    <tr>\n",
       "      <th>2</th>\n",
       "      <td>4</td>\n",
       "      <td>18</td>\n",
       "      <td>2</td>\n",
       "      <td>2010</td>\n",
       "    </tr>\n",
       "    <tr>\n",
       "      <th>3</th>\n",
       "      <td>5</td>\n",
       "      <td>14</td>\n",
       "      <td>2</td>\n",
       "      <td>2015</td>\n",
       "    </tr>\n",
       "    <tr>\n",
       "      <th>4</th>\n",
       "      <td>0</td>\n",
       "      <td>5</td>\n",
       "      <td>1</td>\n",
       "      <td>2009</td>\n",
       "    </tr>\n",
       "  </tbody>\n",
       "</table>\n",
       "</div>"
      ],
      "text/plain": [
       "   dow  hour  month  year\n",
       "0    2    15      4  2009\n",
       "1    4     4      6  2013\n",
       "2    4    18      2  2010\n",
       "3    5    14      2  2015\n",
       "4    0     5      1  2009"
      ]
     },
     "execution_count": 14,
     "metadata": {},
     "output_type": "execute_result"
    }
   ],
   "source": [
    "# test the TimeFeaturesEncoder\n",
    "\n",
    "time_enc = TimeFeaturesEncoder('pickup_datetime')\n",
    "time_features = time_enc.fit_transform(X_train, y_train)\n",
    "time_features.head()"
   ]
  },
  {
   "cell_type": "markdown",
   "metadata": {},
   "source": [
    "###  Prepocessing pipeline"
   ]
  },
  {
   "cell_type": "code",
   "execution_count": 15,
   "metadata": {},
   "outputs": [],
   "source": [
    "# visualizing pipelines in HTML\n",
    "from sklearn import set_config; set_config(display='diagram')"
   ]
  },
  {
   "cell_type": "markdown",
   "metadata": {},
   "source": [
    "#### Distance pipeline\n",
    "\n",
    "Create a pipeline for distances:\n",
    "- convert the pickup and dropoff coordinates into distances with the DistanceTransformer\n",
    "- standardize these distances"
   ]
  },
  {
   "cell_type": "code",
   "execution_count": 21,
   "metadata": {},
   "outputs": [
    {
     "data": {
      "text/html": [
       "<style>#sk-05c53662-4a82-4d73-b198-39e3d12cf62b {color: black;background-color: white;}#sk-05c53662-4a82-4d73-b198-39e3d12cf62b pre{padding: 0;}#sk-05c53662-4a82-4d73-b198-39e3d12cf62b div.sk-toggleable {background-color: white;}#sk-05c53662-4a82-4d73-b198-39e3d12cf62b label.sk-toggleable__label {cursor: pointer;display: block;width: 100%;margin-bottom: 0;padding: 0.3em;box-sizing: border-box;text-align: center;}#sk-05c53662-4a82-4d73-b198-39e3d12cf62b div.sk-toggleable__content {max-height: 0;max-width: 0;overflow: hidden;text-align: left;background-color: #f0f8ff;}#sk-05c53662-4a82-4d73-b198-39e3d12cf62b div.sk-toggleable__content pre {margin: 0.2em;color: black;border-radius: 0.25em;background-color: #f0f8ff;}#sk-05c53662-4a82-4d73-b198-39e3d12cf62b input.sk-toggleable__control:checked~div.sk-toggleable__content {max-height: 200px;max-width: 100%;overflow: auto;}#sk-05c53662-4a82-4d73-b198-39e3d12cf62b div.sk-estimator input.sk-toggleable__control:checked~label.sk-toggleable__label {background-color: #d4ebff;}#sk-05c53662-4a82-4d73-b198-39e3d12cf62b div.sk-label input.sk-toggleable__control:checked~label.sk-toggleable__label {background-color: #d4ebff;}#sk-05c53662-4a82-4d73-b198-39e3d12cf62b input.sk-hidden--visually {border: 0;clip: rect(1px 1px 1px 1px);clip: rect(1px, 1px, 1px, 1px);height: 1px;margin: -1px;overflow: hidden;padding: 0;position: absolute;width: 1px;}#sk-05c53662-4a82-4d73-b198-39e3d12cf62b div.sk-estimator {font-family: monospace;background-color: #f0f8ff;border: 1px dotted black;border-radius: 0.25em;box-sizing: border-box;margin-bottom: 0.5em;}#sk-05c53662-4a82-4d73-b198-39e3d12cf62b div.sk-estimator:hover {background-color: #d4ebff;}#sk-05c53662-4a82-4d73-b198-39e3d12cf62b div.sk-parallel-item::after {content: \"\";width: 100%;border-bottom: 1px solid gray;flex-grow: 1;}#sk-05c53662-4a82-4d73-b198-39e3d12cf62b div.sk-label:hover label.sk-toggleable__label {background-color: #d4ebff;}#sk-05c53662-4a82-4d73-b198-39e3d12cf62b div.sk-serial::before {content: \"\";position: absolute;border-left: 1px solid gray;box-sizing: border-box;top: 2em;bottom: 0;left: 50%;}#sk-05c53662-4a82-4d73-b198-39e3d12cf62b div.sk-serial {display: flex;flex-direction: column;align-items: center;background-color: white;padding-right: 0.2em;padding-left: 0.2em;}#sk-05c53662-4a82-4d73-b198-39e3d12cf62b div.sk-item {z-index: 1;}#sk-05c53662-4a82-4d73-b198-39e3d12cf62b div.sk-parallel {display: flex;align-items: stretch;justify-content: center;background-color: white;}#sk-05c53662-4a82-4d73-b198-39e3d12cf62b div.sk-parallel::before {content: \"\";position: absolute;border-left: 1px solid gray;box-sizing: border-box;top: 2em;bottom: 0;left: 50%;}#sk-05c53662-4a82-4d73-b198-39e3d12cf62b div.sk-parallel-item {display: flex;flex-direction: column;position: relative;background-color: white;}#sk-05c53662-4a82-4d73-b198-39e3d12cf62b div.sk-parallel-item:first-child::after {align-self: flex-end;width: 50%;}#sk-05c53662-4a82-4d73-b198-39e3d12cf62b div.sk-parallel-item:last-child::after {align-self: flex-start;width: 50%;}#sk-05c53662-4a82-4d73-b198-39e3d12cf62b div.sk-parallel-item:only-child::after {width: 0;}#sk-05c53662-4a82-4d73-b198-39e3d12cf62b div.sk-dashed-wrapped {border: 1px dashed gray;margin: 0 0.4em 0.5em 0.4em;box-sizing: border-box;padding-bottom: 0.4em;background-color: white;position: relative;}#sk-05c53662-4a82-4d73-b198-39e3d12cf62b div.sk-label label {font-family: monospace;font-weight: bold;background-color: white;display: inline-block;line-height: 1.2em;}#sk-05c53662-4a82-4d73-b198-39e3d12cf62b div.sk-label-container {position: relative;z-index: 2;text-align: center;}#sk-05c53662-4a82-4d73-b198-39e3d12cf62b div.sk-container {display: inline-block;position: relative;}</style><div id=\"sk-05c53662-4a82-4d73-b198-39e3d12cf62b\" class\"sk-top-container\"><div class=\"sk-container\"><div class=\"sk-item sk-dashed-wrapped\"><div class=\"sk-label-container\"><div class=\"sk-label sk-toggleable\"><input class=\"sk-toggleable__control sk-hidden--visually\" id=\"387da835-a014-4a5c-a20c-ca97d3d2a0c5\" type=\"checkbox\" ><label class=\"sk-toggleable__label\" for=\"387da835-a014-4a5c-a20c-ca97d3d2a0c5\">Pipeline</label><div class=\"sk-toggleable__content\"><pre>Pipeline(steps=[('dist_trans', DistanceTransformer()),\n",
       "                ('stdscaler', StandardScaler())])</pre></div></div></div><div class=\"sk-serial\"><div class=\"sk-item\"><div class=\"sk-estimator sk-toggleable\"><input class=\"sk-toggleable__control sk-hidden--visually\" id=\"2cb68177-821d-405e-b18d-2f6bf64a7c15\" type=\"checkbox\" ><label class=\"sk-toggleable__label\" for=\"2cb68177-821d-405e-b18d-2f6bf64a7c15\">DistanceTransformer</label><div class=\"sk-toggleable__content\"><pre>DistanceTransformer()</pre></div></div></div><div class=\"sk-item\"><div class=\"sk-estimator sk-toggleable\"><input class=\"sk-toggleable__control sk-hidden--visually\" id=\"42480519-d9f9-4f5b-9468-45f294db053f\" type=\"checkbox\" ><label class=\"sk-toggleable__label\" for=\"42480519-d9f9-4f5b-9468-45f294db053f\">StandardScaler</label><div class=\"sk-toggleable__content\"><pre>StandardScaler()</pre></div></div></div></div></div></div></div>"
      ],
      "text/plain": [
       "Pipeline(steps=[('dist_trans', DistanceTransformer()),\n",
       "                ('stdscaler', StandardScaler())])"
      ]
     },
     "execution_count": 21,
     "metadata": {},
     "output_type": "execute_result"
    }
   ],
   "source": [
    "from sklearn.pipeline import Pipeline\n",
    "from sklearn.preprocessing import StandardScaler\n",
    "# create distance pipeline dist_pipe\n",
    "pipe_distance = Pipeline(steps=[('dist_trans', DistanceTransformer()),\n",
    "                ('stdscaler', StandardScaler())])\n",
    "\n",
    "# display distance pipeline\n",
    "pipe_distance"
   ]
  },
  {
   "cell_type": "markdown",
   "metadata": {},
   "source": [
    "#### Time features pipeline\n",
    "\n",
    "Create a pipeline for time features\n",
    "- extract time features from pickup datetime with the TimeFeaturesEncoder\n",
    "- encode these categorical time features with the OneHotEncoder"
   ]
  },
  {
   "cell_type": "code",
   "execution_count": 17,
   "metadata": {},
   "outputs": [
    {
     "data": {
      "text/html": [
       "<style>#sk-f9d765c7-6169-43c5-8e5a-9f33a1b39141 {color: black;background-color: white;}#sk-f9d765c7-6169-43c5-8e5a-9f33a1b39141 pre{padding: 0;}#sk-f9d765c7-6169-43c5-8e5a-9f33a1b39141 div.sk-toggleable {background-color: white;}#sk-f9d765c7-6169-43c5-8e5a-9f33a1b39141 label.sk-toggleable__label {cursor: pointer;display: block;width: 100%;margin-bottom: 0;padding: 0.3em;box-sizing: border-box;text-align: center;}#sk-f9d765c7-6169-43c5-8e5a-9f33a1b39141 div.sk-toggleable__content {max-height: 0;max-width: 0;overflow: hidden;text-align: left;background-color: #f0f8ff;}#sk-f9d765c7-6169-43c5-8e5a-9f33a1b39141 div.sk-toggleable__content pre {margin: 0.2em;color: black;border-radius: 0.25em;background-color: #f0f8ff;}#sk-f9d765c7-6169-43c5-8e5a-9f33a1b39141 input.sk-toggleable__control:checked~div.sk-toggleable__content {max-height: 200px;max-width: 100%;overflow: auto;}#sk-f9d765c7-6169-43c5-8e5a-9f33a1b39141 div.sk-estimator input.sk-toggleable__control:checked~label.sk-toggleable__label {background-color: #d4ebff;}#sk-f9d765c7-6169-43c5-8e5a-9f33a1b39141 div.sk-label input.sk-toggleable__control:checked~label.sk-toggleable__label {background-color: #d4ebff;}#sk-f9d765c7-6169-43c5-8e5a-9f33a1b39141 input.sk-hidden--visually {border: 0;clip: rect(1px 1px 1px 1px);clip: rect(1px, 1px, 1px, 1px);height: 1px;margin: -1px;overflow: hidden;padding: 0;position: absolute;width: 1px;}#sk-f9d765c7-6169-43c5-8e5a-9f33a1b39141 div.sk-estimator {font-family: monospace;background-color: #f0f8ff;border: 1px dotted black;border-radius: 0.25em;box-sizing: border-box;margin-bottom: 0.5em;}#sk-f9d765c7-6169-43c5-8e5a-9f33a1b39141 div.sk-estimator:hover {background-color: #d4ebff;}#sk-f9d765c7-6169-43c5-8e5a-9f33a1b39141 div.sk-parallel-item::after {content: \"\";width: 100%;border-bottom: 1px solid gray;flex-grow: 1;}#sk-f9d765c7-6169-43c5-8e5a-9f33a1b39141 div.sk-label:hover label.sk-toggleable__label {background-color: #d4ebff;}#sk-f9d765c7-6169-43c5-8e5a-9f33a1b39141 div.sk-serial::before {content: \"\";position: absolute;border-left: 1px solid gray;box-sizing: border-box;top: 2em;bottom: 0;left: 50%;}#sk-f9d765c7-6169-43c5-8e5a-9f33a1b39141 div.sk-serial {display: flex;flex-direction: column;align-items: center;background-color: white;padding-right: 0.2em;padding-left: 0.2em;}#sk-f9d765c7-6169-43c5-8e5a-9f33a1b39141 div.sk-item {z-index: 1;}#sk-f9d765c7-6169-43c5-8e5a-9f33a1b39141 div.sk-parallel {display: flex;align-items: stretch;justify-content: center;background-color: white;}#sk-f9d765c7-6169-43c5-8e5a-9f33a1b39141 div.sk-parallel::before {content: \"\";position: absolute;border-left: 1px solid gray;box-sizing: border-box;top: 2em;bottom: 0;left: 50%;}#sk-f9d765c7-6169-43c5-8e5a-9f33a1b39141 div.sk-parallel-item {display: flex;flex-direction: column;position: relative;background-color: white;}#sk-f9d765c7-6169-43c5-8e5a-9f33a1b39141 div.sk-parallel-item:first-child::after {align-self: flex-end;width: 50%;}#sk-f9d765c7-6169-43c5-8e5a-9f33a1b39141 div.sk-parallel-item:last-child::after {align-self: flex-start;width: 50%;}#sk-f9d765c7-6169-43c5-8e5a-9f33a1b39141 div.sk-parallel-item:only-child::after {width: 0;}#sk-f9d765c7-6169-43c5-8e5a-9f33a1b39141 div.sk-dashed-wrapped {border: 1px dashed gray;margin: 0 0.4em 0.5em 0.4em;box-sizing: border-box;padding-bottom: 0.4em;background-color: white;position: relative;}#sk-f9d765c7-6169-43c5-8e5a-9f33a1b39141 div.sk-label label {font-family: monospace;font-weight: bold;background-color: white;display: inline-block;line-height: 1.2em;}#sk-f9d765c7-6169-43c5-8e5a-9f33a1b39141 div.sk-label-container {position: relative;z-index: 2;text-align: center;}#sk-f9d765c7-6169-43c5-8e5a-9f33a1b39141 div.sk-container {display: inline-block;position: relative;}</style><div id=\"sk-f9d765c7-6169-43c5-8e5a-9f33a1b39141\" class\"sk-top-container\"><div class=\"sk-container\"><div class=\"sk-item sk-dashed-wrapped\"><div class=\"sk-label-container\"><div class=\"sk-label sk-toggleable\"><input class=\"sk-toggleable__control sk-hidden--visually\" id=\"f931bc34-4a9d-4ccc-abd4-7aa880fb59ca\" type=\"checkbox\" ><label class=\"sk-toggleable__label\" for=\"f931bc34-4a9d-4ccc-abd4-7aa880fb59ca\">Pipeline</label><div class=\"sk-toggleable__content\"><pre>Pipeline(steps=[('time_features_create',\n",
       "                 TimeFeaturesEncoder(time_column='pickup_datetime')),\n",
       "                ('time_features_ohe',\n",
       "                 OneHotEncoder(handle_unknown='ignore', sparse=False))])</pre></div></div></div><div class=\"sk-serial\"><div class=\"sk-item\"><div class=\"sk-estimator sk-toggleable\"><input class=\"sk-toggleable__control sk-hidden--visually\" id=\"ba0c26a3-f408-4ced-8573-aa2e56fe64ca\" type=\"checkbox\" ><label class=\"sk-toggleable__label\" for=\"ba0c26a3-f408-4ced-8573-aa2e56fe64ca\">TimeFeaturesEncoder</label><div class=\"sk-toggleable__content\"><pre>TimeFeaturesEncoder(time_column='pickup_datetime')</pre></div></div></div><div class=\"sk-item\"><div class=\"sk-estimator sk-toggleable\"><input class=\"sk-toggleable__control sk-hidden--visually\" id=\"09a9a5a2-934c-4520-a35a-46a1f44d3d82\" type=\"checkbox\" ><label class=\"sk-toggleable__label\" for=\"09a9a5a2-934c-4520-a35a-46a1f44d3d82\">OneHotEncoder</label><div class=\"sk-toggleable__content\"><pre>OneHotEncoder(handle_unknown='ignore', sparse=False)</pre></div></div></div></div></div></div></div>"
      ],
      "text/plain": [
       "Pipeline(steps=[('time_features_create',\n",
       "                 TimeFeaturesEncoder(time_column='pickup_datetime')),\n",
       "                ('time_features_ohe',\n",
       "                 OneHotEncoder(handle_unknown='ignore', sparse=False))])"
      ]
     },
     "execution_count": 17,
     "metadata": {},
     "output_type": "execute_result"
    }
   ],
   "source": [
    "from sklearn.preprocessing import OneHotEncoder\n",
    "# create time pipeline time_pipe\n",
    "pipe_time = Pipeline([\n",
    "    ('time_features_create', TimeFeaturesEncoder('pickup_datetime')),\n",
    "    ('time_features_ohe', OneHotEncoder(handle_unknown='ignore', sparse=False))\n",
    "])\n",
    "# display time pipeline\n",
    "pipe_time\n"
   ]
  },
  {
   "cell_type": "markdown",
   "metadata": {},
   "source": [
    "#### Preprocessing pipeline\n",
    "\n",
    "Wrap up the distance pipeline and the time pipeline into a preprocessing pipeline."
   ]
  },
  {
   "cell_type": "code",
   "execution_count": 22,
   "metadata": {},
   "outputs": [
    {
     "data": {
      "text/html": [
       "<style>#sk-2576b204-0092-407c-b8c7-5606494701d2 {color: black;background-color: white;}#sk-2576b204-0092-407c-b8c7-5606494701d2 pre{padding: 0;}#sk-2576b204-0092-407c-b8c7-5606494701d2 div.sk-toggleable {background-color: white;}#sk-2576b204-0092-407c-b8c7-5606494701d2 label.sk-toggleable__label {cursor: pointer;display: block;width: 100%;margin-bottom: 0;padding: 0.3em;box-sizing: border-box;text-align: center;}#sk-2576b204-0092-407c-b8c7-5606494701d2 div.sk-toggleable__content {max-height: 0;max-width: 0;overflow: hidden;text-align: left;background-color: #f0f8ff;}#sk-2576b204-0092-407c-b8c7-5606494701d2 div.sk-toggleable__content pre {margin: 0.2em;color: black;border-radius: 0.25em;background-color: #f0f8ff;}#sk-2576b204-0092-407c-b8c7-5606494701d2 input.sk-toggleable__control:checked~div.sk-toggleable__content {max-height: 200px;max-width: 100%;overflow: auto;}#sk-2576b204-0092-407c-b8c7-5606494701d2 div.sk-estimator input.sk-toggleable__control:checked~label.sk-toggleable__label {background-color: #d4ebff;}#sk-2576b204-0092-407c-b8c7-5606494701d2 div.sk-label input.sk-toggleable__control:checked~label.sk-toggleable__label {background-color: #d4ebff;}#sk-2576b204-0092-407c-b8c7-5606494701d2 input.sk-hidden--visually {border: 0;clip: rect(1px 1px 1px 1px);clip: rect(1px, 1px, 1px, 1px);height: 1px;margin: -1px;overflow: hidden;padding: 0;position: absolute;width: 1px;}#sk-2576b204-0092-407c-b8c7-5606494701d2 div.sk-estimator {font-family: monospace;background-color: #f0f8ff;border: 1px dotted black;border-radius: 0.25em;box-sizing: border-box;margin-bottom: 0.5em;}#sk-2576b204-0092-407c-b8c7-5606494701d2 div.sk-estimator:hover {background-color: #d4ebff;}#sk-2576b204-0092-407c-b8c7-5606494701d2 div.sk-parallel-item::after {content: \"\";width: 100%;border-bottom: 1px solid gray;flex-grow: 1;}#sk-2576b204-0092-407c-b8c7-5606494701d2 div.sk-label:hover label.sk-toggleable__label {background-color: #d4ebff;}#sk-2576b204-0092-407c-b8c7-5606494701d2 div.sk-serial::before {content: \"\";position: absolute;border-left: 1px solid gray;box-sizing: border-box;top: 2em;bottom: 0;left: 50%;}#sk-2576b204-0092-407c-b8c7-5606494701d2 div.sk-serial {display: flex;flex-direction: column;align-items: center;background-color: white;padding-right: 0.2em;padding-left: 0.2em;}#sk-2576b204-0092-407c-b8c7-5606494701d2 div.sk-item {z-index: 1;}#sk-2576b204-0092-407c-b8c7-5606494701d2 div.sk-parallel {display: flex;align-items: stretch;justify-content: center;background-color: white;}#sk-2576b204-0092-407c-b8c7-5606494701d2 div.sk-parallel::before {content: \"\";position: absolute;border-left: 1px solid gray;box-sizing: border-box;top: 2em;bottom: 0;left: 50%;}#sk-2576b204-0092-407c-b8c7-5606494701d2 div.sk-parallel-item {display: flex;flex-direction: column;position: relative;background-color: white;}#sk-2576b204-0092-407c-b8c7-5606494701d2 div.sk-parallel-item:first-child::after {align-self: flex-end;width: 50%;}#sk-2576b204-0092-407c-b8c7-5606494701d2 div.sk-parallel-item:last-child::after {align-self: flex-start;width: 50%;}#sk-2576b204-0092-407c-b8c7-5606494701d2 div.sk-parallel-item:only-child::after {width: 0;}#sk-2576b204-0092-407c-b8c7-5606494701d2 div.sk-dashed-wrapped {border: 1px dashed gray;margin: 0 0.4em 0.5em 0.4em;box-sizing: border-box;padding-bottom: 0.4em;background-color: white;position: relative;}#sk-2576b204-0092-407c-b8c7-5606494701d2 div.sk-label label {font-family: monospace;font-weight: bold;background-color: white;display: inline-block;line-height: 1.2em;}#sk-2576b204-0092-407c-b8c7-5606494701d2 div.sk-label-container {position: relative;z-index: 2;text-align: center;}#sk-2576b204-0092-407c-b8c7-5606494701d2 div.sk-container {display: inline-block;position: relative;}</style><div id=\"sk-2576b204-0092-407c-b8c7-5606494701d2\" class\"sk-top-container\"><div class=\"sk-container\"><div class=\"sk-item sk-dashed-wrapped\"><div class=\"sk-label-container\"><div class=\"sk-label sk-toggleable\"><input class=\"sk-toggleable__control sk-hidden--visually\" id=\"6ca576ef-923b-48c5-a521-bc8d3d1e34d8\" type=\"checkbox\" ><label class=\"sk-toggleable__label\" for=\"6ca576ef-923b-48c5-a521-bc8d3d1e34d8\">ColumnTransformer</label><div class=\"sk-toggleable__content\"><pre>ColumnTransformer(transformers=[('distance',\n",
       "                                 Pipeline(steps=[('dist_trans',\n",
       "                                                  DistanceTransformer()),\n",
       "                                                 ('stdscaler',\n",
       "                                                  StandardScaler())]),\n",
       "                                 ['pickup_longitude', 'pickup_latitude',\n",
       "                                  'dropoff_longitude', 'dropoff_latitude']),\n",
       "                                ('time',\n",
       "                                 Pipeline(steps=[('time_features_create',\n",
       "                                                  TimeFeaturesEncoder(time_column='pickup_datetime')),\n",
       "                                                 ('time_features_ohe',\n",
       "                                                  OneHotEncoder(handle_unknown='ignore',\n",
       "                                                                sparse=False))]),\n",
       "                                 ['pickup_datetime'])])</pre></div></div></div><div class=\"sk-parallel\"><div class=\"sk-parallel-item\"><div class=\"sk-item\"><div class=\"sk-label-container\"><div class=\"sk-label sk-toggleable\"><input class=\"sk-toggleable__control sk-hidden--visually\" id=\"29cab493-261b-4176-b4b0-7d0e4d73cc95\" type=\"checkbox\" ><label class=\"sk-toggleable__label\" for=\"29cab493-261b-4176-b4b0-7d0e4d73cc95\">distance</label><div class=\"sk-toggleable__content\"><pre>['pickup_longitude', 'pickup_latitude', 'dropoff_longitude', 'dropoff_latitude']</pre></div></div></div><div class=\"sk-serial\"><div class=\"sk-item\"><div class=\"sk-serial\"><div class=\"sk-item\"><div class=\"sk-estimator sk-toggleable\"><input class=\"sk-toggleable__control sk-hidden--visually\" id=\"65b0dcdf-6e12-4bd3-86e2-5c11810b6727\" type=\"checkbox\" ><label class=\"sk-toggleable__label\" for=\"65b0dcdf-6e12-4bd3-86e2-5c11810b6727\">DistanceTransformer</label><div class=\"sk-toggleable__content\"><pre>DistanceTransformer()</pre></div></div></div><div class=\"sk-item\"><div class=\"sk-estimator sk-toggleable\"><input class=\"sk-toggleable__control sk-hidden--visually\" id=\"0111fde7-8df1-4360-8db4-60bdb63d55bd\" type=\"checkbox\" ><label class=\"sk-toggleable__label\" for=\"0111fde7-8df1-4360-8db4-60bdb63d55bd\">StandardScaler</label><div class=\"sk-toggleable__content\"><pre>StandardScaler()</pre></div></div></div></div></div></div></div></div><div class=\"sk-parallel-item\"><div class=\"sk-item\"><div class=\"sk-label-container\"><div class=\"sk-label sk-toggleable\"><input class=\"sk-toggleable__control sk-hidden--visually\" id=\"488d57c7-73f2-4aee-8104-2e6aecb7397a\" type=\"checkbox\" ><label class=\"sk-toggleable__label\" for=\"488d57c7-73f2-4aee-8104-2e6aecb7397a\">time</label><div class=\"sk-toggleable__content\"><pre>['pickup_datetime']</pre></div></div></div><div class=\"sk-serial\"><div class=\"sk-item\"><div class=\"sk-serial\"><div class=\"sk-item\"><div class=\"sk-estimator sk-toggleable\"><input class=\"sk-toggleable__control sk-hidden--visually\" id=\"5e7499a9-a9c0-442a-bf07-5d18de9e5319\" type=\"checkbox\" ><label class=\"sk-toggleable__label\" for=\"5e7499a9-a9c0-442a-bf07-5d18de9e5319\">TimeFeaturesEncoder</label><div class=\"sk-toggleable__content\"><pre>TimeFeaturesEncoder(time_column='pickup_datetime')</pre></div></div></div><div class=\"sk-item\"><div class=\"sk-estimator sk-toggleable\"><input class=\"sk-toggleable__control sk-hidden--visually\" id=\"d3882296-341a-4c19-b461-64a69b88d5d4\" type=\"checkbox\" ><label class=\"sk-toggleable__label\" for=\"d3882296-341a-4c19-b461-64a69b88d5d4\">OneHotEncoder</label><div class=\"sk-toggleable__content\"><pre>OneHotEncoder(handle_unknown='ignore', sparse=False)</pre></div></div></div></div></div></div></div></div></div></div></div></div>"
      ],
      "text/plain": [
       "ColumnTransformer(transformers=[('distance',\n",
       "                                 Pipeline(steps=[('dist_trans',\n",
       "                                                  DistanceTransformer()),\n",
       "                                                 ('stdscaler',\n",
       "                                                  StandardScaler())]),\n",
       "                                 ['pickup_longitude', 'pickup_latitude',\n",
       "                                  'dropoff_longitude', 'dropoff_latitude']),\n",
       "                                ('time',\n",
       "                                 Pipeline(steps=[('time_features_create',\n",
       "                                                  TimeFeaturesEncoder(time_column='pickup_datetime')),\n",
       "                                                 ('time_features_ohe',\n",
       "                                                  OneHotEncoder(handle_unknown='ignore',\n",
       "                                                                sparse=False))]),\n",
       "                                 ['pickup_datetime'])])"
      ]
     },
     "execution_count": 22,
     "metadata": {},
     "output_type": "execute_result"
    }
   ],
   "source": [
    "from sklearn.compose import ColumnTransformer\n",
    "# create preprocessing pipeline preproc_pipe\n",
    "preprocessor = ColumnTransformer([\n",
    "    ('distance', pipe_distance, ['pickup_longitude', 'pickup_latitude', 'dropoff_longitude', 'dropoff_latitude']),\n",
    "    ('time', pipe_time, ['pickup_datetime'])\n",
    "])\n",
    "# display preprocessing pipeline\n",
    "preprocessor\n",
    "\n"
   ]
  },
  {
   "cell_type": "markdown",
   "metadata": {},
   "source": [
    "### Model pipeline\n",
    "\n",
    "Create a pipeline containing the preprocessing and the regression model of your choice."
   ]
  },
  {
   "cell_type": "code",
   "execution_count": 23,
   "metadata": {},
   "outputs": [
    {
     "data": {
      "text/html": [
       "<style>#sk-8ee81d72-d4a0-41ee-a018-ebdda1aafa93 {color: black;background-color: white;}#sk-8ee81d72-d4a0-41ee-a018-ebdda1aafa93 pre{padding: 0;}#sk-8ee81d72-d4a0-41ee-a018-ebdda1aafa93 div.sk-toggleable {background-color: white;}#sk-8ee81d72-d4a0-41ee-a018-ebdda1aafa93 label.sk-toggleable__label {cursor: pointer;display: block;width: 100%;margin-bottom: 0;padding: 0.3em;box-sizing: border-box;text-align: center;}#sk-8ee81d72-d4a0-41ee-a018-ebdda1aafa93 div.sk-toggleable__content {max-height: 0;max-width: 0;overflow: hidden;text-align: left;background-color: #f0f8ff;}#sk-8ee81d72-d4a0-41ee-a018-ebdda1aafa93 div.sk-toggleable__content pre {margin: 0.2em;color: black;border-radius: 0.25em;background-color: #f0f8ff;}#sk-8ee81d72-d4a0-41ee-a018-ebdda1aafa93 input.sk-toggleable__control:checked~div.sk-toggleable__content {max-height: 200px;max-width: 100%;overflow: auto;}#sk-8ee81d72-d4a0-41ee-a018-ebdda1aafa93 div.sk-estimator input.sk-toggleable__control:checked~label.sk-toggleable__label {background-color: #d4ebff;}#sk-8ee81d72-d4a0-41ee-a018-ebdda1aafa93 div.sk-label input.sk-toggleable__control:checked~label.sk-toggleable__label {background-color: #d4ebff;}#sk-8ee81d72-d4a0-41ee-a018-ebdda1aafa93 input.sk-hidden--visually {border: 0;clip: rect(1px 1px 1px 1px);clip: rect(1px, 1px, 1px, 1px);height: 1px;margin: -1px;overflow: hidden;padding: 0;position: absolute;width: 1px;}#sk-8ee81d72-d4a0-41ee-a018-ebdda1aafa93 div.sk-estimator {font-family: monospace;background-color: #f0f8ff;border: 1px dotted black;border-radius: 0.25em;box-sizing: border-box;margin-bottom: 0.5em;}#sk-8ee81d72-d4a0-41ee-a018-ebdda1aafa93 div.sk-estimator:hover {background-color: #d4ebff;}#sk-8ee81d72-d4a0-41ee-a018-ebdda1aafa93 div.sk-parallel-item::after {content: \"\";width: 100%;border-bottom: 1px solid gray;flex-grow: 1;}#sk-8ee81d72-d4a0-41ee-a018-ebdda1aafa93 div.sk-label:hover label.sk-toggleable__label {background-color: #d4ebff;}#sk-8ee81d72-d4a0-41ee-a018-ebdda1aafa93 div.sk-serial::before {content: \"\";position: absolute;border-left: 1px solid gray;box-sizing: border-box;top: 2em;bottom: 0;left: 50%;}#sk-8ee81d72-d4a0-41ee-a018-ebdda1aafa93 div.sk-serial {display: flex;flex-direction: column;align-items: center;background-color: white;padding-right: 0.2em;padding-left: 0.2em;}#sk-8ee81d72-d4a0-41ee-a018-ebdda1aafa93 div.sk-item {z-index: 1;}#sk-8ee81d72-d4a0-41ee-a018-ebdda1aafa93 div.sk-parallel {display: flex;align-items: stretch;justify-content: center;background-color: white;}#sk-8ee81d72-d4a0-41ee-a018-ebdda1aafa93 div.sk-parallel::before {content: \"\";position: absolute;border-left: 1px solid gray;box-sizing: border-box;top: 2em;bottom: 0;left: 50%;}#sk-8ee81d72-d4a0-41ee-a018-ebdda1aafa93 div.sk-parallel-item {display: flex;flex-direction: column;position: relative;background-color: white;}#sk-8ee81d72-d4a0-41ee-a018-ebdda1aafa93 div.sk-parallel-item:first-child::after {align-self: flex-end;width: 50%;}#sk-8ee81d72-d4a0-41ee-a018-ebdda1aafa93 div.sk-parallel-item:last-child::after {align-self: flex-start;width: 50%;}#sk-8ee81d72-d4a0-41ee-a018-ebdda1aafa93 div.sk-parallel-item:only-child::after {width: 0;}#sk-8ee81d72-d4a0-41ee-a018-ebdda1aafa93 div.sk-dashed-wrapped {border: 1px dashed gray;margin: 0 0.4em 0.5em 0.4em;box-sizing: border-box;padding-bottom: 0.4em;background-color: white;position: relative;}#sk-8ee81d72-d4a0-41ee-a018-ebdda1aafa93 div.sk-label label {font-family: monospace;font-weight: bold;background-color: white;display: inline-block;line-height: 1.2em;}#sk-8ee81d72-d4a0-41ee-a018-ebdda1aafa93 div.sk-label-container {position: relative;z-index: 2;text-align: center;}#sk-8ee81d72-d4a0-41ee-a018-ebdda1aafa93 div.sk-container {display: inline-block;position: relative;}</style><div id=\"sk-8ee81d72-d4a0-41ee-a018-ebdda1aafa93\" class\"sk-top-container\"><div class=\"sk-container\"><div class=\"sk-item sk-dashed-wrapped\"><div class=\"sk-label-container\"><div class=\"sk-label sk-toggleable\"><input class=\"sk-toggleable__control sk-hidden--visually\" id=\"c936a1fb-09cd-4dbb-a146-4640d6a25be7\" type=\"checkbox\" ><label class=\"sk-toggleable__label\" for=\"c936a1fb-09cd-4dbb-a146-4640d6a25be7\">Pipeline</label><div class=\"sk-toggleable__content\"><pre>Pipeline(steps=[('dist_and_time',\n",
       "                 ColumnTransformer(transformers=[('distance',\n",
       "                                                  Pipeline(steps=[('dist_trans',\n",
       "                                                                   DistanceTransformer()),\n",
       "                                                                  ('stdscaler',\n",
       "                                                                   StandardScaler())]),\n",
       "                                                  ['pickup_longitude',\n",
       "                                                   'pickup_latitude',\n",
       "                                                   'dropoff_longitude',\n",
       "                                                   'dropoff_latitude']),\n",
       "                                                 ('time',\n",
       "                                                  Pipeline(steps=[('time_features_create',\n",
       "                                                                   TimeFeaturesEncoder(time_column='pickup_datetime')),\n",
       "                                                                  ('time_features_ohe',\n",
       "                                                                   OneHotEncoder(handle_unknown='ignore',\n",
       "                                                                                 sparse=False))]),\n",
       "                                                  ['pickup_datetime'])])),\n",
       "                ('LRegression', LinearRegression())])</pre></div></div></div><div class=\"sk-serial\"><div class=\"sk-item sk-dashed-wrapped\"><div class=\"sk-label-container\"><div class=\"sk-label sk-toggleable\"><input class=\"sk-toggleable__control sk-hidden--visually\" id=\"1855a536-f3b9-45fe-8dff-383629c901fd\" type=\"checkbox\" ><label class=\"sk-toggleable__label\" for=\"1855a536-f3b9-45fe-8dff-383629c901fd\">dist_and_time: ColumnTransformer</label><div class=\"sk-toggleable__content\"><pre>ColumnTransformer(transformers=[('distance',\n",
       "                                 Pipeline(steps=[('dist_trans',\n",
       "                                                  DistanceTransformer()),\n",
       "                                                 ('stdscaler',\n",
       "                                                  StandardScaler())]),\n",
       "                                 ['pickup_longitude', 'pickup_latitude',\n",
       "                                  'dropoff_longitude', 'dropoff_latitude']),\n",
       "                                ('time',\n",
       "                                 Pipeline(steps=[('time_features_create',\n",
       "                                                  TimeFeaturesEncoder(time_column='pickup_datetime')),\n",
       "                                                 ('time_features_ohe',\n",
       "                                                  OneHotEncoder(handle_unknown='ignore',\n",
       "                                                                sparse=False))]),\n",
       "                                 ['pickup_datetime'])])</pre></div></div></div><div class=\"sk-parallel\"><div class=\"sk-parallel-item\"><div class=\"sk-item\"><div class=\"sk-label-container\"><div class=\"sk-label sk-toggleable\"><input class=\"sk-toggleable__control sk-hidden--visually\" id=\"1d312d67-bbc4-4a51-88d0-108c9562d276\" type=\"checkbox\" ><label class=\"sk-toggleable__label\" for=\"1d312d67-bbc4-4a51-88d0-108c9562d276\">distance</label><div class=\"sk-toggleable__content\"><pre>['pickup_longitude', 'pickup_latitude', 'dropoff_longitude', 'dropoff_latitude']</pre></div></div></div><div class=\"sk-serial\"><div class=\"sk-item\"><div class=\"sk-serial\"><div class=\"sk-item\"><div class=\"sk-estimator sk-toggleable\"><input class=\"sk-toggleable__control sk-hidden--visually\" id=\"3f837b9b-cd9a-4d23-a594-908a5f63c15b\" type=\"checkbox\" ><label class=\"sk-toggleable__label\" for=\"3f837b9b-cd9a-4d23-a594-908a5f63c15b\">DistanceTransformer</label><div class=\"sk-toggleable__content\"><pre>DistanceTransformer()</pre></div></div></div><div class=\"sk-item\"><div class=\"sk-estimator sk-toggleable\"><input class=\"sk-toggleable__control sk-hidden--visually\" id=\"faa78898-3e9c-4ab0-8290-80b6a1b90eb5\" type=\"checkbox\" ><label class=\"sk-toggleable__label\" for=\"faa78898-3e9c-4ab0-8290-80b6a1b90eb5\">StandardScaler</label><div class=\"sk-toggleable__content\"><pre>StandardScaler()</pre></div></div></div></div></div></div></div></div><div class=\"sk-parallel-item\"><div class=\"sk-item\"><div class=\"sk-label-container\"><div class=\"sk-label sk-toggleable\"><input class=\"sk-toggleable__control sk-hidden--visually\" id=\"6c1b0bc4-5fa8-44ae-b314-d5a856a0407c\" type=\"checkbox\" ><label class=\"sk-toggleable__label\" for=\"6c1b0bc4-5fa8-44ae-b314-d5a856a0407c\">time</label><div class=\"sk-toggleable__content\"><pre>['pickup_datetime']</pre></div></div></div><div class=\"sk-serial\"><div class=\"sk-item\"><div class=\"sk-serial\"><div class=\"sk-item\"><div class=\"sk-estimator sk-toggleable\"><input class=\"sk-toggleable__control sk-hidden--visually\" id=\"74ab10fc-8ff0-499d-afea-2a114d9753d8\" type=\"checkbox\" ><label class=\"sk-toggleable__label\" for=\"74ab10fc-8ff0-499d-afea-2a114d9753d8\">TimeFeaturesEncoder</label><div class=\"sk-toggleable__content\"><pre>TimeFeaturesEncoder(time_column='pickup_datetime')</pre></div></div></div><div class=\"sk-item\"><div class=\"sk-estimator sk-toggleable\"><input class=\"sk-toggleable__control sk-hidden--visually\" id=\"ca4d00f4-5bdd-4ecf-b02e-27e5f7ae7c66\" type=\"checkbox\" ><label class=\"sk-toggleable__label\" for=\"ca4d00f4-5bdd-4ecf-b02e-27e5f7ae7c66\">OneHotEncoder</label><div class=\"sk-toggleable__content\"><pre>OneHotEncoder(handle_unknown='ignore', sparse=False)</pre></div></div></div></div></div></div></div></div></div></div><div class=\"sk-item\"><div class=\"sk-estimator sk-toggleable\"><input class=\"sk-toggleable__control sk-hidden--visually\" id=\"ab9b8be0-a6c0-4f90-a7b8-949be1267195\" type=\"checkbox\" ><label class=\"sk-toggleable__label\" for=\"ab9b8be0-a6c0-4f90-a7b8-949be1267195\">LinearRegression</label><div class=\"sk-toggleable__content\"><pre>LinearRegression()</pre></div></div></div></div></div></div></div>"
      ],
      "text/plain": [
       "Pipeline(steps=[('dist_and_time',\n",
       "                 ColumnTransformer(transformers=[('distance',\n",
       "                                                  Pipeline(steps=[('dist_trans',\n",
       "                                                                   DistanceTransformer()),\n",
       "                                                                  ('stdscaler',\n",
       "                                                                   StandardScaler())]),\n",
       "                                                  ['pickup_longitude',\n",
       "                                                   'pickup_latitude',\n",
       "                                                   'dropoff_longitude',\n",
       "                                                   'dropoff_latitude']),\n",
       "                                                 ('time',\n",
       "                                                  Pipeline(steps=[('time_features_create',\n",
       "                                                                   TimeFeaturesEncoder(time_column='pickup_datetime')),\n",
       "                                                                  ('time_features_ohe',\n",
       "                                                                   OneHotEncoder(handle_unknown='ignore',\n",
       "                                                                                 sparse=False))]),\n",
       "                                                  ['pickup_datetime'])])),\n",
       "                ('LRegression', LinearRegression())])"
      ]
     },
     "execution_count": 23,
     "metadata": {},
     "output_type": "execute_result"
    }
   ],
   "source": [
    "from sklearn.linear_model import LinearRegression\n",
    "\n",
    "# Add the model of your choice to the pipeline nammed pipe\n",
    "pipe_prepro = Pipeline([\n",
    "    ('dist_and_time', preprocessor),\n",
    "    ('LRegression', LinearRegression())\n",
    "])\n",
    "\n",
    "# display the pipeline with model\n",
    "pipe_prepro"
   ]
  },
  {
   "cell_type": "markdown",
   "metadata": {},
   "source": [
    "### Training and performance"
   ]
  },
  {
   "cell_type": "markdown",
   "metadata": {},
   "source": [
    "Train the pipelined model and compute the prediction on the test set:"
   ]
  },
  {
   "cell_type": "code",
   "execution_count": 17,
   "metadata": {},
   "outputs": [],
   "source": [
    "# train the pipelined model\n",
    "model = pipe_prepro.fit(X_train, y_train)\n",
    "\n",
    "# compute y_pred on the test set\n",
    "y_pred=model.predict(X_test)"
   ]
  },
  {
   "cell_type": "markdown",
   "metadata": {},
   "source": [
    "Use the RMSE to evaluate the performance of the model:"
   ]
  },
  {
   "cell_type": "code",
   "execution_count": 18,
   "metadata": {},
   "outputs": [],
   "source": [
    "def compute_rmse(y_pred, y_true):\n",
    "    \n",
    "    return # A COMPLETER"
   ]
  },
  {
   "cell_type": "code",
   "execution_count": 19,
   "metadata": {
    "scrolled": true
   },
   "outputs": [
    {
     "data": {
      "text/plain": [
       "10.175329127383847"
      ]
     },
     "execution_count": 19,
     "metadata": {},
     "output_type": "execute_result"
    }
   ],
   "source": [
    "# call compute_rmse\n",
    "compute_rmse(y_pred, y_test)"
   ]
  },
  {
   "cell_type": "markdown",
   "metadata": {},
   "source": [
    "## Complete the workflow with a pipeline"
   ]
  },
  {
   "cell_type": "markdown",
   "metadata": {},
   "source": [
    "Here we will implement the whole workflow for our Taxifare kaggle challenge.\n",
    "\n",
    "For that we will refactor the code in functions for more clarity.\n",
    "\n",
    "Implement the following functions:\n",
    "- `get_data()` to fetch the data \n",
    "- `clean_data()` to clean the data\n",
    "- `get_pipeline()` to get the pipeline defined earlier\n",
    "- `train()` to train our model\n",
    "- `evaluate()` to evaluate our model on test data"
   ]
  },
  {
   "cell_type": "code",
   "execution_count": 25,
   "metadata": {},
   "outputs": [],
   "source": [
    "# implement get_data() function\n",
    "def get_data(nrows=10000):\n",
    "    '''returns a DataFrame with nrows from s3 bucket'''\n",
    "    # A COMPLETER\n",
    "    return df"
   ]
  },
  {
   "cell_type": "code",
   "execution_count": 26,
   "metadata": {},
   "outputs": [],
   "source": [
    "# implement clean_data() function\n",
    "def clean_data(df, test=False):\n",
    "    '''returns a DataFrame without outliers and missing values'''\n",
    "    # A COMPLETER\n",
    "    return df"
   ]
  },
  {
   "cell_type": "code",
   "execution_count": 27,
   "metadata": {},
   "outputs": [],
   "source": [
    "# implement set_pipeline() function\n",
    "def set_pipeline():\n",
    "    '''returns a pipelined model'''\n",
    "     # A  COMPLETER\n",
    "    return pipe"
   ]
  },
  {
   "cell_type": "code",
   "execution_count": 28,
   "metadata": {},
   "outputs": [],
   "source": [
    "# implement train() function\n",
    "def train(X_train, y_train, pipeline):\n",
    "    '''returns a trained pipelined model'''\n",
    "   # A COMPLETER\n",
    "    return pipeline"
   ]
  },
  {
   "cell_type": "code",
   "execution_count": 29,
   "metadata": {},
   "outputs": [],
   "source": [
    "# implement evaluate() function\n",
    "def evaluate(X_test, y_test, pipeline):\n",
    "    '''returns the value of the RMSE'''\n",
    "    # A COMPLETER\n",
    "    print(rmse)\n",
    "    return rmse"
   ]
  },
  {
   "cell_type": "markdown",
   "metadata": {},
   "source": [
    "### Test the complete worflow\n",
    "\n",
    "Use the above functions to test the complete workflow."
   ]
  },
  {
   "cell_type": "code",
   "execution_count": 30,
   "metadata": {},
   "outputs": [
    {
     "name": "stdout",
     "output_type": "stream",
     "text": [
      "9.396264153241109\n"
     ]
    }
   ],
   "source": [
    "# store the data in a DataFrame\n",
    "df = get_data()\n",
    "\n",
    "# set X and y\n",
    "y = df[\"fare_amount\"]\n",
    "X = df.drop(\"fare_amount\", axis=1)\n",
    "\n",
    "# hold out\n",
    "X_train, X_val, y_train, y_val = train_test_split(X, y, test_size=0.15)\n",
    "\n",
    "# build pipeline\n",
    "pipeline = set_pipeline()\n",
    "\n",
    "# train the pipeline\n",
    "train(X_train, y_train, pipeline)\n",
    "\n",
    "# evaluate the pipeline\n",
    "rmse = evaluate(X_val, y_val, pipeline)"
   ]
  },
  {
   "cell_type": "markdown",
   "metadata": {},
   "source": [
    "### Congrats!\n",
    "\n",
    "Now we are ready to convert this complete workflow into a packaged code 🚀"
   ]
  }
 ],
 "metadata": {
  "challengify": {
   "keep_output": true
  },
  "kernelspec": {
   "display_name": "Python 3",
   "language": "python",
   "name": "python3"
  },
  "language_info": {
   "codemirror_mode": {
    "name": "ipython",
    "version": 3
   },
   "file_extension": ".py",
   "mimetype": "text/x-python",
   "name": "python",
   "nbconvert_exporter": "python",
   "pygments_lexer": "ipython3",
   "version": "3.7.12"
  },
  "pycharm": {
   "stem_cell": {
    "cell_type": "raw",
    "metadata": {
     "collapsed": false
    },
    "source": []
   }
  },
  "toc": {
   "base_numbering": 1,
   "nav_menu": {},
   "number_sections": false,
   "sideBar": true,
   "skip_h1_title": false,
   "title_cell": "Table of Contents",
   "title_sidebar": "Contents",
   "toc_cell": false,
   "toc_position": {},
   "toc_section_display": true,
   "toc_window_display": true
  },
  "varInspector": {
   "cols": {
    "lenName": 16,
    "lenType": 16,
    "lenVar": 40
   },
   "kernels_config": {
    "python": {
     "delete_cmd_postfix": "",
     "delete_cmd_prefix": "del ",
     "library": "var_list.py",
     "varRefreshCmd": "print(var_dic_list())"
    },
    "r": {
     "delete_cmd_postfix": ") ",
     "delete_cmd_prefix": "rm(",
     "library": "var_list.r",
     "varRefreshCmd": "cat(var_dic_list()) "
    }
   },
   "position": {
    "height": "244px",
    "left": "1550px",
    "right": "20px",
    "top": "120px",
    "width": "350px"
   },
   "types_to_exclude": [
    "module",
    "function",
    "builtin_function_or_method",
    "instance",
    "_Feature"
   ],
   "window_display": false
  }
 },
 "nbformat": 4,
 "nbformat_minor": 4
}
